{
  "nbformat": 4,
  "nbformat_minor": 0,
  "metadata": {
    "colab": {
      "name": "problem 1.ipynb",
      "provenance": []
    },
    "kernelspec": {
      "name": "python3",
      "display_name": "Python 3"
    },
    "language_info": {
      "name": "python"
    }
  },
  "cells": [
    {
      "cell_type": "code",
      "source": [
        "import numpy \n",
        "from numpy import linalg\n",
        "import matplotlib.pyplot as plt \n",
        "import glob\n",
        "import imageio\n",
        "from skimage import exposure,img_as_float\n",
        "import copy\n"
      ],
      "metadata": {
        "id": "_pEZZ4mbklgu"
      },
      "execution_count": null,
      "outputs": []
    },
    {
      "cell_type": "code",
      "source": [
        "path1 = \"data1/*.jpg\""
      ],
      "metadata": {
        "id": "ABLI-ffltbMu"
      },
      "execution_count": null,
      "outputs": []
    },
    {
      "cell_type": "code",
      "source": [
        "path2 = \"data2/*.jpg\""
      ],
      "metadata": {
        "id": "XkeTEO7nvRBY"
      },
      "execution_count": null,
      "outputs": []
    },
    {
      "cell_type": "code",
      "source": [
        "data1 = glob.glob(path1)\n",
        "data2 = glob.glob(path2)"
      ],
      "metadata": {
        "id": "PjsPqPs3tIsU"
      },
      "execution_count": null,
      "outputs": []
    },
    {
      "cell_type": "code",
      "source": [
        "descriptors1 = []\n",
        "images1 = []\n",
        "descriptors2 = []\n",
        "images2 = []"
      ],
      "metadata": {
        "id": "lSfMXVittgfr"
      },
      "execution_count": null,
      "outputs": []
    },
    {
      "cell_type": "code",
      "source": [
        "def generateFeatures(histograms):\n",
        "    ret = []\n",
        "    for histogram in histograms:\n",
        "        ret.extend(histogram)\n",
        "    return ret"
      ],
      "metadata": {
        "id": "VNXo_c_UxPuO"
      },
      "execution_count": 23,
      "outputs": []
    },
    {
      "cell_type": "code",
      "source": [
        "def meanShift(descriptors, maxDistance):\n",
        "    means = numpy.copy(descriptors)\n",
        "    lengthOfMeans = len(means)\n",
        "    \n",
        "    for i in range(lengthOfMeans):\n",
        "        target = means[i]\n",
        "        converged = False\n",
        "        while not converged:\n",
        "          x = []\n",
        "          for temp in descriptors:\n",
        "            distance = linalg.norm(target-temp)\n",
        "            if distance <= maxDistance:\n",
        "              x.append(temp)\n",
        "          center = numpy.average(x,axis=0)\n",
        "          if linalg.norm(target-center) == 0:\n",
        "            converged = True\n",
        "          target = center\n",
        "        means[i] = target \n",
        "    \n",
        "    meansArray = means.tolist()\n",
        "    x = []\n",
        "    for i, j in enumerate(meansArray):\n",
        "      j = tuple(j)\n",
        "      x.append(j)\n",
        "    meansArray = copy.deepcopy(x)\n",
        "    uniqueMeanValues = set(x)\n",
        "    uniqueMeanValuesList = list(uniqueMeanValues)\n",
        "    result = []\n",
        "\n",
        "    for i in range(len(means)):\n",
        "        target = meansArray[i]\n",
        "        \n",
        "        for j in range(len(uniqueMeanValuesList)):\n",
        "            center = uniqueMeanValuesList[j]\n",
        "            if target != center:\n",
        "              continue\n",
        "            else:\n",
        "              result.append(j)\n",
        "              break\n",
        "    return result"
      ],
      "metadata": {
        "id": "xE5s_wqcmcSg"
      },
      "execution_count": 4,
      "outputs": []
    },
    {
      "cell_type": "code",
      "source": [
        "for path in data1:\n",
        "        image = img_as_float(imageio.imread(path))\n",
        "        histogramRed, _ = exposure.histogram(image[:,:,0],nbins=8)\n",
        "        histogramGreen, _ = exposure.histogram(image[:,:,1],nbins=8)\n",
        "        histogramBlue, _ = exposure.histogram(image[:,:,2],nbins=8)\n",
        "        descriptor = generateFeatures([histogramRed, histogramGreen, histogramBlue])\n",
        "        descriptors1.append(descriptor)\n",
        "        images1.append((images1, path))"
      ],
      "metadata": {
        "id": "_iJtyzCbt12k"
      },
      "execution_count": 6,
      "outputs": []
    },
    {
      "cell_type": "code",
      "source": [
        "meanShiftOutput = meanShift(descriptors1, 1880000)"
      ],
      "metadata": {
        "id": "fsEARhqlvZkR"
      },
      "execution_count": 7,
      "outputs": []
    },
    {
      "cell_type": "code",
      "source": [
        "uniqueMeanShiftOutput = set(meanShiftOutput)"
      ],
      "metadata": {
        "id": "nvVBrCNawCPY"
      },
      "execution_count": 8,
      "outputs": []
    },
    {
      "cell_type": "code",
      "source": [
        "print(\"There are \", len(uniqueMeanShiftOutput), \" clusters.\")"
      ],
      "metadata": {
        "id": "ACymNqXgwEt8"
      },
      "execution_count": 9,
      "outputs": []
    },
    {
      "cell_type": "code",
      "source": [
        "imageClusters = [[]] * len(uniqueMeanShiftOutput)"
      ],
      "metadata": {
        "id": "r1mabyUIwNHy"
      },
      "execution_count": 10,
      "outputs": []
    },
    {
      "cell_type": "code",
      "source": [
        "for i in range(len(images1)):\n",
        "  target = meanShiftOutput[i]\n",
        "  imageClusters[target].append(images1[i])"
      ],
      "metadata": {
        "id": "hi6UE635wdUU"
      },
      "execution_count": 11,
      "outputs": []
    },
    {
      "cell_type": "code",
      "source": [
        "for i in range(len(uniqueMeanShiftOutput)):\n",
        "  print(\"Cluster \", i, \":\")\n",
        "  for j in range(len(imageClusters[i])):\n",
        "    print(imageClusters[i][j][1])\n",
        "  print(\"\\n\")\n",
        "  print(\"------------------------------------------------------------------------------------------------------------------------------------------\")\n",
        "  print(\"\\n\")"
      ],
      "metadata": {
        "id": "gjbchCEdzj0j"
      },
      "execution_count": 12,
      "outputs": []
    },
    {
      "cell_type": "code",
      "source": [
        "for path in data2:\n",
        "        image = img_as_float(imageio.imread(path))\n",
        "        histogramRed, _ = exposure.histogram(image[:,:,0],nbins=8)\n",
        "        histogramGreen, _ = exposure.histogram(image[:,:,1],nbins=8)\n",
        "        histogramBlue, _ = exposure.histogram(image[:,:,2],nbins=8)\n",
        "        descriptor = generateFeatures([histogramRed, histogramGreen, histogramBlue])\n",
        "        descriptors2.append(descriptor)\n",
        "        images2.append((images2, path))"
      ],
      "metadata": {
        "id": "KPfri4ir0icw"
      },
      "execution_count": 13,
      "outputs": []
    },
    {
      "cell_type": "code",
      "source": [
        "meanShiftOutput = meanShift(descriptors2, 1920000)"
      ],
      "metadata": {
        "id": "BElG9BVL0oQF"
      },
      "execution_count": 14,
      "outputs": []
    },
    {
      "cell_type": "code",
      "source": [
        "uniqueMeanShiftOutput = set(meanShiftOutput)"
      ],
      "metadata": {
        "id": "Y-U0URK50tp-"
      },
      "execution_count": 15,
      "outputs": []
    },
    {
      "cell_type": "code",
      "source": [
        "print(\"There are \", len(uniqueMeanShiftOutput), \" clusters.\")"
      ],
      "metadata": {
        "id": "9M8Zp35r0xcR"
      },
      "execution_count": 16,
      "outputs": []
    },
    {
      "cell_type": "code",
      "source": [
        "imageClusters = [[]] * len(uniqueMeanShiftOutput)"
      ],
      "metadata": {
        "id": "ptCASK6W0zob"
      },
      "execution_count": 17,
      "outputs": []
    },
    {
      "cell_type": "code",
      "source": [
        "for i in range(len(images2)):\n",
        "  target = meanShiftOutput[i]\n",
        "  imageClusters[target].append(images2[i])"
      ],
      "metadata": {
        "id": "gPqeUbrQ02n1"
      },
      "execution_count": 18,
      "outputs": []
    },
    {
      "cell_type": "code",
      "source": [
        "for i in range(len(uniqueMeanShiftOutput)):\n",
        "  print(\"Cluster \", i, \":\")\n",
        "  for j in range(len(imageClusters[i])):\n",
        "    print(imageClusters[i][j][1])\n",
        "  print(\"\\n\")\n",
        "  print(\"------------------------------------------------------------------------------------------------------------------------------------------\")\n",
        "  print(\"\\n\")"
      ],
      "metadata": {
        "id": "DXGlp-oF0_d1"
      },
      "execution_count": 19,
      "outputs": []
    },
    {
      "cell_type": "code",
      "source": [
        ""
      ],
      "metadata": {
        "id": "ja1BmX-X1GP7"
      },
      "execution_count": 19,
      "outputs": []
    }
  ]
}